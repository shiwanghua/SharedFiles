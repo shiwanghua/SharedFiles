{
 "cells": [
  {
   "cell_type": "code",
   "execution_count": 114,
   "metadata": {},
   "outputs": [],
   "source": [
    "#! /usr/bin/env python\n",
    "# -*- coding: utf-8 -*- \n",
    "#! python3 \n",
    "import matplotlib.pyplot as plt # plt 用于显示图片\n",
    "import matplotlib.image as mpimg # mpimg 用于读取图片\n",
    "import numpy as np\n",
    "import copy\n",
    "import cv2\n",
    "import PIL.Image as Image\n",
    "import os\n",
    "import pandas as pd\n",
    "\n",
    "%matplotlib inline\n",
    "\n",
    "plt.style.use(\"ggplot\")"
   ]
  },
  {
   "cell_type": "code",
   "execution_count": 221,
   "metadata": {},
   "outputs": [
    {
     "name": "stdout",
     "output_type": "stream",
     "text": [
      "[0, 24, 49, 74, 98, 122] [255, 231, 206, 181, 157, 133]\n",
      "<class 'numpy.ndarray'>\n",
      "(100, 612)\n"
     ]
    }
   ],
   "source": [
    "\n",
    "grid_height=5\n",
    "grid_width=5\n",
    "\n",
    "num_level=6\n",
    "\n",
    "Havg=147\n",
    "Hblack=0\n",
    "Hwhite=255\n",
    "\n",
    "Hbright=[]\n",
    "Hdark=[]\n",
    "\n",
    "for i in range(0,num_level):\n",
    "    Hdark.append(round((Havg-Hblack)*i/num_level+Hblack))\n",
    "    Hbright.append(Hwhite-Hdark[i])\n",
    "print(Hdark,Hbright)\n",
    "\n",
    "def generate_display_grid():\n",
    "    length=100\n",
    "    images=[]\n",
    "    for l in range(num_level):\n",
    "        grid_image=np.ones((length,length+2))\n",
    "        for i in range(0,length,grid_height):\n",
    "            for j in range(0,length,grid_width):\n",
    "                if (i/grid_height+j/grid_width)%2==1:\n",
    "                    for ii in range(i,min(length,i+grid_height)):\n",
    "                        for jj in range(j,min(length,j+grid_width)):\n",
    "                            grid_image[ii][jj]= Hdark[l]/255 \n",
    "                else:\n",
    "                    for ii in range(i,min(length,i+grid_height)):\n",
    "                        for jj in range(j,min(length,j+grid_width)):\n",
    "                            grid_image[ii][jj]=Havg/255\n",
    "#         cv2.imshow('Test',grid_image) # 这里展示时需小于等于1.0\n",
    "#         cv2.waitKey()\n",
    "        grid_image=grid_image*255    # 保存图片时需取0-255\n",
    "        images.append(grid_image)\n",
    "        cv2.imwrite('ReproductionImages/HidenImage/DarkGrids/{}.png'.format(str(l+1)), grid_image)\n",
    "#         cv2.imwrite('ReproductionImages/HidenImage/BrightGrids/{}.png'.format(str(l+1)), grid_image)\n",
    "    images=np.concatenate(np.array(images),axis=1)\n",
    "    cv2.imshow('Test',images/255) # 这里展示时需小于等于1.0\n",
    "    cv2.waitKey()\n",
    "    cv2.imwrite('ReproductionImages/HidenImage/DarkGrids/dark_partition_grid.png', images)\n",
    "    return images\n",
    "        \n",
    "images=generate_display_grid()\n",
    "print(type(images))\n",
    "print(images.shape)"
   ]
  },
  {
   "cell_type": "code",
   "execution_count": 222,
   "metadata": {},
   "outputs": [
    {
     "data": {
      "text/plain": [
       "True"
      ]
     },
     "execution_count": 222,
     "metadata": {},
     "output_type": "execute_result"
    }
   ],
   "source": [
    "data = cv2.imread('pictures/HidenImage/OriginalPerson'+str(1)+'.png')#,cv2.IMREAD_GRAYSCALE)\n",
    "image = cv2.cvtColor(data,cv2.COLOR_BGR2GRAY)\n",
    "# cv2.imshow('Test',data)\n",
    "# cv2.waitKey()\n",
    "\n",
    "h=image.shape[0]\n",
    "w=image.shape[1]\n",
    "\n",
    "def paint(image,x,y,grid_height,grid_width,h,w,c):\n",
    "    for i in range(x,min(h,x+grid_height)):\n",
    "        for j in range(y,min(w,y+grid_width)):\n",
    "            image[i][j]=c\n",
    "            \n",
    "def average(image,x,y,grid_height,grid_width,h,w):\n",
    "    sum=0.0\n",
    "    count=(min(h,x+grid_height)-x)*(min(w,y+grid_width)-y)\n",
    "    for i in range(x,min(h,x+grid_height)):\n",
    "        for j in range(y,min(w,y+grid_width)):\n",
    "            sum+=image[i][j]\n",
    "    return sum/count      \n",
    "\n",
    "hdark=Hdark.copy()\n",
    "hdark.append(Havg)\n",
    "# hdark=[a*255/Havg for a in hdark]\n",
    "\n",
    "for i in range(0,h,grid_height):\n",
    "    for j in range(0,w,grid_width):\n",
    "        if (i/grid_height+j/grid_width)%2==1:\n",
    "            paint(image,i,j,grid_height,grid_width,h,w,Havg)\n",
    "        else:\n",
    "\n",
    "            for k in range(0,num_level):\n",
    "#                 if image[i][j]>=2*hdark[k] and image[i][j]<2*hdark[k+1]:\n",
    "#                 if image[i][j]>=255*hdark[k]/Havg and image[i][j]<255*hdark[k+1]/Havg:\n",
    "                avg=average(image,i,j,grid_height,grid_width,h,w)\n",
    "                if avg>=2*hdark[k] and avg<2*hdark[k+1]:\n",
    "#                 if avg>=255*hdark[k]/Havg and avg<255*hdark[k+1]/Havg:\n",
    "                    paint(image,i,j,grid_height,grid_width,h,w,hdark[k])\n",
    "            \n",
    "#             if image[i][j]<Havg:\n",
    "#                 hdark=Hdark\n",
    "#                 hdark.append(Havg)\n",
    "#                 for k in range(0,num_level):\n",
    "#                     if image[i][j]>=hdark[k] and image[i][j]<hdark[k+1]:\n",
    "#                         paint(image,i,j,grid_height,grid_width,h,w,hdark[k])\n",
    "#             else:\n",
    "#                 hbright=Hbright\n",
    "#                 hbright.append(Havg)\n",
    "#                 for k in range(0,num_level):\n",
    "#                     if image[i][j]<=hbright[k] and image[i][j]>hbright[k+1]:\n",
    "#                         paint(image,i,j,grid_height,grid_width,h,w,hbright[k])\n",
    "            \n",
    "                    \n",
    "cv2.imshow('Test',image)\n",
    "cv2.waitKey()\n",
    "cv2.imwrite('ReproductionImages/HidenImage/hiden_person.png', image)"
   ]
  },
  {
   "cell_type": "code",
   "execution_count": 223,
   "metadata": {},
   "outputs": [
    {
     "data": {
      "text/plain": [
       "True"
      ]
     },
     "execution_count": 223,
     "metadata": {},
     "output_type": "execute_result"
    }
   ],
   "source": [
    "data = cv2.imread('pictures/HidenImage/OriginalPerson'+str(1)+'.png')#,cv2.IMREAD_GRAYSCALE)\n",
    "image = cv2.cvtColor(data,cv2.COLOR_BGR2GRAY)\n",
    "# cv2.imshow('Test',data)\n",
    "# cv2.waitKey()\n",
    "\n",
    "h=image.shape[0]\n",
    "w=image.shape[1]\n",
    "hdark=Hdark.copy()\n",
    "hdark.append(Havg)\n",
    "images=[]\n",
    "for l in range(num_level):\n",
    "    fig=image.copy()\n",
    "    for i in range(h):\n",
    "        for j in range(w): \n",
    "#             if image[i][j]>=2*hdark[l] and image[i][j]<2*hdark[l+1]:\n",
    "#             if image[i][j]>=255*hdark[l]/Havg and image[i][j]<255*hdark[l+1]/Havg:\n",
    "            avg=average(image,i,j,grid_height,grid_width,h,w)            \n",
    "#             if avg>=255*hdark[l]/Havg and avg<255*hdark[l+1]/Havg:\n",
    "            if avg>=2*hdark[l] and avg<2*hdark[l+1]:\n",
    "                fig[i][j]=255\n",
    "            else:\n",
    "                fig[i][j]=0\n",
    "    images.append(fig)\n",
    "images=np.concatenate(np.array(images),axis=1)\n",
    "# cv2.imshow('Test',images/255) # 这里展示时需小于等于1.0\n",
    "# cv2.waitKey()\n",
    "cv2.imwrite('ReproductionImages/HidenImage/level_mark.png', images)"
   ]
  },
  {
   "cell_type": "code",
   "execution_count": 32,
   "metadata": {},
   "outputs": [
    {
     "name": "stdout",
     "output_type": "stream",
     "text": [
      "<class 'numpy.ndarray'>\n",
      "90\n",
      "90\n",
      "90\n",
      "223\n"
     ]
    }
   ],
   "source": [
    "data = cv2.imread('pictures/HidenImage/'+str(1)+'.png')#,cv2.IMREAD_GRAYSCALE)\n",
    "# image = cv2.cvtColor(data,cv2.COLOR_BGR2GRAY)\n",
    "# cv2.imshow('Test',data)\n",
    "# cv2.waitKey()\n",
    "print(type(data))\n",
    "\n",
    "h=image.shape[0]\n",
    "w=image.shape[1]\n",
    "\n",
    "a=image.copy()\n",
    "print(image[0][50])\n",
    "print(a[0][50])\n",
    "a[0][50]=223\n",
    "print(image[0][50])\n",
    "print(a[0][50])"
   ]
  }
 ],
 "metadata": {
  "kernelspec": {
   "display_name": "Python 3",
   "language": "python",
   "name": "python3"
  },
  "language_info": {
   "codemirror_mode": {
    "name": "ipython",
    "version": 3
   },
   "file_extension": ".py",
   "mimetype": "text/x-python",
   "name": "python",
   "nbconvert_exporter": "python",
   "pygments_lexer": "ipython3",
   "version": "3.7.0"
  }
 },
 "nbformat": 4,
 "nbformat_minor": 2
}
