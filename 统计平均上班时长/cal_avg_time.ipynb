{
 "cells": [
  {
   "cell_type": "code",
   "execution_count": 12,
   "metadata": {},
   "outputs": [
    {
     "name": "stdout",
     "output_type": "stream",
     "text": [
      "上班天数： 33 天\n",
      "平均下班时间： 18 点 02 分\n",
      "平均离开时间： 19 点 10 分\n",
      "平均主动加班时长:  68 分钟\n",
      "日均上班时长:  9 小时 10 分钟\n"
     ]
    }
   ],
   "source": [
    "from openpyxl import load_workbook\n",
    "\n",
    "wb = load_workbook('下班时间表.xlsx')\n",
    "sheet = wb.worksheets[0]   # 获取当前所有的sheet\n",
    "\n",
    "minutes_off = 0 # 总分钟数\n",
    "day_num = 0 # 上班天数\n",
    "\n",
    "for r in sheet['C']: # 下班时间放在C列，每个时间格式为：xx点xx，如：18点30\n",
    "    s=r.value\n",
    "    if s is not None and s.count('点') == 1:\n",
    "        t=s.split('点')\n",
    "        minutes_off += int(t[0])*60 + int(t[1])\n",
    "        day_num += 1\n",
    "\n",
    "print(\"上班天数：\", day_num,\"天\")\n",
    "print(\"平均下班时间：\", (minutes_off+day_num//2)//day_num//60, \"点\",\n",
    "      str((minutes_off+day_num//2)//day_num % 60).rjust(2, \"0\"), \"分\")\n",
    "\n",
    "minutes_left = 0  # 总分钟数\n",
    "for r in sheet['D']:  # 离开时间放在D列\n",
    "    s = r.value\n",
    "    if s is not None and s.count('点') == 1:\n",
    "        t = s.split('点')\n",
    "        minutes_left += int(t[0])*60 + int(t[1])\n",
    "print(\"平均离开时间：\", (minutes_left+day_num//2)//day_num//60, \"点\",\n",
    "      str((minutes_left+day_num//2)//day_num % 60).rjust(2, \"0\"), \"分\")\n",
    "\n",
    "print(\"平均主动加班时长: \", (minutes_left-minutes_off+day_num//2)//day_num, \"分钟\")\n",
    "\n",
    "day_min = (minutes_left-10*60*day_num+day_num//2)//day_num\n",
    "print(\"日均上班时长: \", day_min//60, \"小时\", day_min%60, \"分钟\")\n"
   ]
  },
  {
   "cell_type": "code",
   "execution_count": null,
   "metadata": {},
   "outputs": [],
   "source": []
  }
 ],
 "metadata": {
  "kernelspec": {
   "display_name": "Python 3",
   "language": "python",
   "name": "python3"
  },
  "language_info": {
   "codemirror_mode": {
    "name": "ipython",
    "version": 3
   },
   "file_extension": ".py",
   "mimetype": "text/x-python",
   "name": "python",
   "nbconvert_exporter": "python",
   "pygments_lexer": "ipython3",
   "version": "3.10.10"
  },
  "orig_nbformat": 4,
  "vscode": {
   "interpreter": {
    "hash": "e3b385b01018dd657c2b07f593ed62f8c2b302e9565dea153406e54381ac4edf"
   }
  }
 },
 "nbformat": 4,
 "nbformat_minor": 2
}
