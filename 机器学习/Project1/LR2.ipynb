{
 "cells": [
  {
   "cell_type": "code",
   "execution_count": 2,
   "metadata": {},
   "outputs": [],
   "source": [
    "# coding: utf-8\n",
    "import scipy.io as io\n",
    "from scipy import optimize\n",
    "import numpy as np\n",
    "import math\n",
    "import matplotlib.pyplot as plt\n",
    "from sklearn.metrics import roc_auc_score\n",
    "import matplotlib.patheffects as pe\n",
    "import seaborn as sb\n",
    "from sklearn.manifold import TSNE \n",
    "%matplotlib inline\n",
    "# from IPython.display import display\n",
    "infinity = float(-2**31)\n",
    "import sys\n",
    "from sklearn import datasets\n",
    "from sklearn import metrics\n",
    "from sklearn.model_selection import train_test_split\n",
    "from sklearn.linear_model import LogisticRegression\n",
    "from sklearn.multiclass import OneVsRestClassifier\n",
    "from sklearn.multiclass import OneVsOneClassifier"
   ]
  },
  {
   "cell_type": "code",
   "execution_count": 5,
   "metadata": {},
   "outputs": [
    {
     "name": "stdout",
     "output_type": "stream",
     "text": [
      "(73257, 3072)\n"
     ]
    }
   ],
   "source": [
    "mat = io.loadmat('./data/train_32x32.mat')\n",
    "X = mat['X'] # (32, 32, 3, 73257)\n",
    "Y = mat['y'] # (73257, 1)\n",
    "n=X.shape[-1]\n",
    "X=X.reshape(-1,n).transpose()  # (73257,3072)\n",
    "print(X.shape)\n",
    "X = np.column_stack((np.full((n,1),1),X)) #  hstack\n",
    "X = X[0:1000]\n",
    "Y = Y[0:1000]\n",
    "X=X/255\n",
    "# X=(X/255-0.5)*2\n",
    "\n",
    "mat = io.loadmat('./data/test_32x32.mat')\n",
    "X_test = mat['X']\n",
    "Y_test = mat['y']\n",
    "n_test=X_test.shape[-1]\n",
    "X_test=X_test.reshape(-1,n_test).transpose()\n",
    "X_test = np.column_stack((np.full((n_test,1),1),X_test))\n",
    "X_test = X_test[0:200]\n",
    "Y_test = Y_test[0:200]\n",
    "# X_test=(X_test/255-0.5)*2\n",
    "X_test=X_test/255"
   ]
  },
  {
   "cell_type": "code",
   "execution_count": 6,
   "metadata": {},
   "outputs": [
    {
     "name": "stderr",
     "output_type": "stream",
     "text": [
      "d:\\anaconda3.5.3.1\\envs\\tensorflow\\lib\\site-packages\\sklearn\\utils\\validation.py:63: DataConversionWarning: A column-vector y was passed when a 1d array was expected. Please change the shape of y to (n_samples, ), for example using ravel().\n",
      "  return f(*args, **kwargs)\n"
     ]
    },
    {
     "name": "stdout",
     "output_type": "stream",
     "text": [
      "LR(multi_class = ovr, solver = liblinear) Train Accuracy : 0.683\n",
      "LR(multi_class = ovr, solver = liblinear) Test  Accuracy : 0.175\n"
     ]
    }
   ],
   "source": [
    "multi_class='ovr'\n",
    "solver='liblinear'\n",
    "log_reg = LogisticRegression(multi_class=multi_class, solver=solver)  # 调用ovr多分类\n",
    "log_reg.fit(X, Y[:,0])\n",
    "predict_train = log_reg.predict(X)\n",
    "sys.stdout.write(\"LR(multi_class = %s, solver = %s) Train Accuracy : %.4g\\n\" % (\n",
    "    multi_class, solver, metrics.accuracy_score(Y[:,0], predict_train)))\n",
    "predict_test = log_reg.predict(X_test)\n",
    "sys.stdout.write(\"LR(multi_class = %s, solver = %s) Test  Accuracy : %.4g\\n\" % (\n",
    "    multi_class, solver, metrics.accuracy_score(Y_test[:,0], predict_test)))"
   ]
  }
 ],
 "metadata": {
  "kernelspec": {
   "display_name": "Python 3",
   "language": "python",
   "name": "python3"
  },
  "language_info": {
   "codemirror_mode": {
    "name": "ipython",
    "version": 3
   },
   "file_extension": ".py",
   "mimetype": "text/x-python",
   "name": "python",
   "nbconvert_exporter": "python",
   "pygments_lexer": "ipython3",
   "version": "3.7.10"
  }
 },
 "nbformat": 4,
 "nbformat_minor": 2
}
